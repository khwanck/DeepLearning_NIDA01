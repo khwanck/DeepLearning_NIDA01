{
  "nbformat": 4,
  "nbformat_minor": 0,
  "metadata": {
    "colab": {
      "name": "HW1_1 with regularize-1.ipynb",
      "provenance": [],
      "collapsed_sections": []
    },
    "kernelspec": {
      "name": "python3",
      "display_name": "Python 3"
    },
    "language_info": {
      "name": "python"
    }
  },
  "cells": [
    {
      "cell_type": "markdown",
      "source": [
        "## Prepare Environment"
      ],
      "metadata": {
        "id": "8gZVFTSoCYsk"
      }
    },
    {
      "cell_type": "code",
      "source": [
        "import pandas as pd\n",
        "import numpy as np\n",
        "#url ='https://raw.githubusercontent.com/khwanck/DeepLearning_NIDA01/main/winedata.csv'\n",
        "url ='https://raw.githubusercontent.com/khwanck/DeepLearning_NIDA01/main/winequality-red.csv'\n",
        "data=pd.read_csv(url,)\n",
        "data.head(5)"
      ],
      "metadata": {
        "colab": {
          "base_uri": "https://localhost:8080/",
          "height": 206
        },
        "id": "2NLa9R5EBC6M",
        "outputId": "f4bb22bc-29d4-42bd-f192-ec5e94bcedd4"
      },
      "execution_count": null,
      "outputs": [
        {
          "output_type": "execute_result",
          "data": {
            "text/html": [
              "\n",
              "  <div id=\"df-7d4201f9-70e5-436f-9cf8-d1fe460e168e\">\n",
              "    <div class=\"colab-df-container\">\n",
              "      <div>\n",
              "<style scoped>\n",
              "    .dataframe tbody tr th:only-of-type {\n",
              "        vertical-align: middle;\n",
              "    }\n",
              "\n",
              "    .dataframe tbody tr th {\n",
              "        vertical-align: top;\n",
              "    }\n",
              "\n",
              "    .dataframe thead th {\n",
              "        text-align: right;\n",
              "    }\n",
              "</style>\n",
              "<table border=\"1\" class=\"dataframe\">\n",
              "  <thead>\n",
              "    <tr style=\"text-align: right;\">\n",
              "      <th></th>\n",
              "      <th>fixed acidity</th>\n",
              "      <th>volatile acidity</th>\n",
              "      <th>citric acid</th>\n",
              "      <th>residual sugar</th>\n",
              "      <th>chlorides</th>\n",
              "      <th>free sulfur dioxide</th>\n",
              "      <th>total sulfur dioxide</th>\n",
              "      <th>density</th>\n",
              "      <th>pH</th>\n",
              "      <th>sulphates</th>\n",
              "      <th>alcohol</th>\n",
              "      <th>Y</th>\n",
              "    </tr>\n",
              "  </thead>\n",
              "  <tbody>\n",
              "    <tr>\n",
              "      <th>0</th>\n",
              "      <td>7.4</td>\n",
              "      <td>0.70</td>\n",
              "      <td>0.00</td>\n",
              "      <td>1.9</td>\n",
              "      <td>0.076</td>\n",
              "      <td>11.0</td>\n",
              "      <td>34.0</td>\n",
              "      <td>0.9978</td>\n",
              "      <td>3.51</td>\n",
              "      <td>0.56</td>\n",
              "      <td>9.4</td>\n",
              "      <td>5</td>\n",
              "    </tr>\n",
              "    <tr>\n",
              "      <th>1</th>\n",
              "      <td>7.8</td>\n",
              "      <td>0.88</td>\n",
              "      <td>0.00</td>\n",
              "      <td>2.6</td>\n",
              "      <td>0.098</td>\n",
              "      <td>25.0</td>\n",
              "      <td>67.0</td>\n",
              "      <td>0.9968</td>\n",
              "      <td>3.20</td>\n",
              "      <td>0.68</td>\n",
              "      <td>9.8</td>\n",
              "      <td>5</td>\n",
              "    </tr>\n",
              "    <tr>\n",
              "      <th>2</th>\n",
              "      <td>7.8</td>\n",
              "      <td>0.76</td>\n",
              "      <td>0.04</td>\n",
              "      <td>2.3</td>\n",
              "      <td>0.092</td>\n",
              "      <td>15.0</td>\n",
              "      <td>54.0</td>\n",
              "      <td>0.9970</td>\n",
              "      <td>3.26</td>\n",
              "      <td>0.65</td>\n",
              "      <td>9.8</td>\n",
              "      <td>5</td>\n",
              "    </tr>\n",
              "    <tr>\n",
              "      <th>3</th>\n",
              "      <td>11.2</td>\n",
              "      <td>0.28</td>\n",
              "      <td>0.56</td>\n",
              "      <td>1.9</td>\n",
              "      <td>0.075</td>\n",
              "      <td>17.0</td>\n",
              "      <td>60.0</td>\n",
              "      <td>0.9980</td>\n",
              "      <td>3.16</td>\n",
              "      <td>0.58</td>\n",
              "      <td>9.8</td>\n",
              "      <td>6</td>\n",
              "    </tr>\n",
              "    <tr>\n",
              "      <th>4</th>\n",
              "      <td>7.4</td>\n",
              "      <td>0.70</td>\n",
              "      <td>0.00</td>\n",
              "      <td>1.9</td>\n",
              "      <td>0.076</td>\n",
              "      <td>11.0</td>\n",
              "      <td>34.0</td>\n",
              "      <td>0.9978</td>\n",
              "      <td>3.51</td>\n",
              "      <td>0.56</td>\n",
              "      <td>9.4</td>\n",
              "      <td>5</td>\n",
              "    </tr>\n",
              "  </tbody>\n",
              "</table>\n",
              "</div>\n",
              "      <button class=\"colab-df-convert\" onclick=\"convertToInteractive('df-7d4201f9-70e5-436f-9cf8-d1fe460e168e')\"\n",
              "              title=\"Convert this dataframe to an interactive table.\"\n",
              "              style=\"display:none;\">\n",
              "        \n",
              "  <svg xmlns=\"http://www.w3.org/2000/svg\" height=\"24px\"viewBox=\"0 0 24 24\"\n",
              "       width=\"24px\">\n",
              "    <path d=\"M0 0h24v24H0V0z\" fill=\"none\"/>\n",
              "    <path d=\"M18.56 5.44l.94 2.06.94-2.06 2.06-.94-2.06-.94-.94-2.06-.94 2.06-2.06.94zm-11 1L8.5 8.5l.94-2.06 2.06-.94-2.06-.94L8.5 2.5l-.94 2.06-2.06.94zm10 10l.94 2.06.94-2.06 2.06-.94-2.06-.94-.94-2.06-.94 2.06-2.06.94z\"/><path d=\"M17.41 7.96l-1.37-1.37c-.4-.4-.92-.59-1.43-.59-.52 0-1.04.2-1.43.59L10.3 9.45l-7.72 7.72c-.78.78-.78 2.05 0 2.83L4 21.41c.39.39.9.59 1.41.59.51 0 1.02-.2 1.41-.59l7.78-7.78 2.81-2.81c.8-.78.8-2.07 0-2.86zM5.41 20L4 18.59l7.72-7.72 1.47 1.35L5.41 20z\"/>\n",
              "  </svg>\n",
              "      </button>\n",
              "      \n",
              "  <style>\n",
              "    .colab-df-container {\n",
              "      display:flex;\n",
              "      flex-wrap:wrap;\n",
              "      gap: 12px;\n",
              "    }\n",
              "\n",
              "    .colab-df-convert {\n",
              "      background-color: #E8F0FE;\n",
              "      border: none;\n",
              "      border-radius: 50%;\n",
              "      cursor: pointer;\n",
              "      display: none;\n",
              "      fill: #1967D2;\n",
              "      height: 32px;\n",
              "      padding: 0 0 0 0;\n",
              "      width: 32px;\n",
              "    }\n",
              "\n",
              "    .colab-df-convert:hover {\n",
              "      background-color: #E2EBFA;\n",
              "      box-shadow: 0px 1px 2px rgba(60, 64, 67, 0.3), 0px 1px 3px 1px rgba(60, 64, 67, 0.15);\n",
              "      fill: #174EA6;\n",
              "    }\n",
              "\n",
              "    [theme=dark] .colab-df-convert {\n",
              "      background-color: #3B4455;\n",
              "      fill: #D2E3FC;\n",
              "    }\n",
              "\n",
              "    [theme=dark] .colab-df-convert:hover {\n",
              "      background-color: #434B5C;\n",
              "      box-shadow: 0px 1px 3px 1px rgba(0, 0, 0, 0.15);\n",
              "      filter: drop-shadow(0px 1px 2px rgba(0, 0, 0, 0.3));\n",
              "      fill: #FFFFFF;\n",
              "    }\n",
              "  </style>\n",
              "\n",
              "      <script>\n",
              "        const buttonEl =\n",
              "          document.querySelector('#df-7d4201f9-70e5-436f-9cf8-d1fe460e168e button.colab-df-convert');\n",
              "        buttonEl.style.display =\n",
              "          google.colab.kernel.accessAllowed ? 'block' : 'none';\n",
              "\n",
              "        async function convertToInteractive(key) {\n",
              "          const element = document.querySelector('#df-7d4201f9-70e5-436f-9cf8-d1fe460e168e');\n",
              "          const dataTable =\n",
              "            await google.colab.kernel.invokeFunction('convertToInteractive',\n",
              "                                                     [key], {});\n",
              "          if (!dataTable) return;\n",
              "\n",
              "          const docLinkHtml = 'Like what you see? Visit the ' +\n",
              "            '<a target=\"_blank\" href=https://colab.research.google.com/notebooks/data_table.ipynb>data table notebook</a>'\n",
              "            + ' to learn more about interactive tables.';\n",
              "          element.innerHTML = '';\n",
              "          dataTable['output_type'] = 'display_data';\n",
              "          await google.colab.output.renderOutput(dataTable, element);\n",
              "          const docLink = document.createElement('div');\n",
              "          docLink.innerHTML = docLinkHtml;\n",
              "          element.appendChild(docLink);\n",
              "        }\n",
              "      </script>\n",
              "    </div>\n",
              "  </div>\n",
              "  "
            ],
            "text/plain": [
              "   fixed acidity  volatile acidity  citric acid  ...  sulphates  alcohol  Y\n",
              "0            7.4              0.70         0.00  ...       0.56      9.4  5\n",
              "1            7.8              0.88         0.00  ...       0.68      9.8  5\n",
              "2            7.8              0.76         0.04  ...       0.65      9.8  5\n",
              "3           11.2              0.28         0.56  ...       0.58      9.8  6\n",
              "4            7.4              0.70         0.00  ...       0.56      9.4  5\n",
              "\n",
              "[5 rows x 12 columns]"
            ]
          },
          "metadata": {},
          "execution_count": 1
        }
      ]
    },
    {
      "cell_type": "code",
      "source": [
        "x=data.drop('Y',1)\n",
        "y=data.Y\n",
        "print(x.head(5))\n",
        "print(y.head(5))"
      ],
      "metadata": {
        "colab": {
          "base_uri": "https://localhost:8080/"
        },
        "id": "oE1b0x7UBDnP",
        "outputId": "eeac31b5-4330-44f2-806b-17f4fa2f8af6"
      },
      "execution_count": null,
      "outputs": [
        {
          "output_type": "stream",
          "name": "stdout",
          "text": [
            "   fixed acidity  volatile acidity  citric acid  ...    pH  sulphates  alcohol\n",
            "0            7.4              0.70         0.00  ...  3.51       0.56      9.4\n",
            "1            7.8              0.88         0.00  ...  3.20       0.68      9.8\n",
            "2            7.8              0.76         0.04  ...  3.26       0.65      9.8\n",
            "3           11.2              0.28         0.56  ...  3.16       0.58      9.8\n",
            "4            7.4              0.70         0.00  ...  3.51       0.56      9.4\n",
            "\n",
            "[5 rows x 11 columns]\n",
            "0    5\n",
            "1    5\n",
            "2    5\n",
            "3    6\n",
            "4    5\n",
            "Name: Y, dtype: int64\n"
          ]
        },
        {
          "output_type": "stream",
          "name": "stderr",
          "text": [
            "/usr/local/lib/python3.7/dist-packages/ipykernel_launcher.py:1: FutureWarning: In a future version of pandas all arguments of DataFrame.drop except for the argument 'labels' will be keyword-only\n",
            "  \"\"\"Entry point for launching an IPython kernel.\n"
          ]
        }
      ]
    },
    {
      "cell_type": "code",
      "source": [
        "from sklearn.model_selection import train_test_split\n",
        "x_train,x_test,y_train,y_test= train_test_split(x,y,random_state=0)\n",
        "type(x_train)"
      ],
      "metadata": {
        "colab": {
          "base_uri": "https://localhost:8080/"
        },
        "id": "xFksWUAYBF5R",
        "outputId": "b96544be-c9dd-4b0d-be16-2baa7cfa334d"
      },
      "execution_count": null,
      "outputs": [
        {
          "output_type": "execute_result",
          "data": {
            "text/plain": [
              "pandas.core.frame.DataFrame"
            ]
          },
          "metadata": {},
          "execution_count": 3
        }
      ]
    },
    {
      "cell_type": "code",
      "source": [
        "from sklearn.preprocessing import StandardScaler\n",
        "Scaler_X = StandardScaler()\n",
        "x_train = Scaler_X.fit_transform(x_train)\n",
        "x_test = Scaler_X.transform(x_test)\n",
        "type(x_train)\n",
        "type(y_train)"
      ],
      "metadata": {
        "colab": {
          "base_uri": "https://localhost:8080/"
        },
        "id": "tutmYKLUJ-rU",
        "outputId": "3e34a32a-8ad8-4d49-82db-8c47ee490384"
      },
      "execution_count": null,
      "outputs": [
        {
          "output_type": "execute_result",
          "data": {
            "text/plain": [
              "pandas.core.series.Series"
            ]
          },
          "metadata": {},
          "execution_count": 4
        }
      ]
    },
    {
      "cell_type": "code",
      "source": [
        "#x_train = x_train.to_numpy()\n",
        "#y_train = y_train.to_numpy()\n",
        "x_train=x_train.astype(np.float32)\n",
        "y_train=y_train.astype(np.float32)\n",
        "input_dim=11   # number of features \n",
        "output_dim=11   # number of output (0,1,2,...,10)\n",
        "type(y_train)"
      ],
      "metadata": {
        "colab": {
          "base_uri": "https://localhost:8080/"
        },
        "id": "t3bnLhlOBWnq",
        "outputId": "e8d70789-bb7f-4b95-a54a-61b39bd9c34c"
      },
      "execution_count": null,
      "outputs": [
        {
          "output_type": "execute_result",
          "data": {
            "text/plain": [
              "pandas.core.series.Series"
            ]
          },
          "metadata": {},
          "execution_count": 5
        }
      ]
    },
    {
      "cell_type": "code",
      "source": [
        "import sys\n",
        "print(f\"Python{sys.version}\\n\")\n",
        "import numpy as np\n",
        "import matplotlib.pyplot as plt\n",
        "import tensorflow as tf "
      ],
      "metadata": {
        "colab": {
          "base_uri": "https://localhost:8080/"
        },
        "id": "7f2jirInB48V",
        "outputId": "1472406f-2b5f-4189-9df4-177743577e1b"
      },
      "execution_count": null,
      "outputs": [
        {
          "output_type": "stream",
          "name": "stdout",
          "text": [
            "Python3.7.12 (default, Jan 15 2022, 18:48:18) \n",
            "[GCC 7.5.0]\n",
            "\n"
          ]
        }
      ]
    },
    {
      "cell_type": "markdown",
      "source": [
        "## Model Architecture"
      ],
      "metadata": {
        "id": "3HZVvcQuCP_V"
      }
    },
    {
      "cell_type": "code",
      "source": [
        "from keras.regularizers import l1_l2\n",
        "model=tf.keras.models.Sequential()\n",
        "#input layer\n",
        "model.add(tf.keras.Input(shape=(input_dim)))\n",
        "\n"
      ],
      "metadata": {
        "id": "dh3VRqLyBaWX"
      },
      "execution_count": null,
      "outputs": []
    },
    {
      "cell_type": "markdown",
      "source": [
        "ทางกลุ่มได้ทำการปรับในส่วนของ hidden layer โดย:\n",
        "\n",
        "1. ปรับจำนวนของ hidden layer ตั้งแต่ 1 ถึง 9 \n",
        "2. ปรับจำนวน node ในแต่ละ hidden layer ตั้งแต่ 10, 20, 50, 100, 200, 300 และ 1000 (ทุก hidden layer ใช้จำนวน node เท่ากันหมด)\n",
        "3. ปรับ activation function โดยลองใช้ Relu, sigmoid, Tanh (ในการปรับแต่ละรอบจะใช้ activation function เดียวกันสำหรับทุก hidden layer)\n",
        "4. ลองใส่ Regularization เพิ่ม"
      ],
      "metadata": {
        "id": "XAHIUCDL9722"
      }
    },
    {
      "cell_type": "code",
      "source": [
        "\n",
        "#hidden layer\n",
        "model.add(tf.keras.layers.Dense(300,activation='relu',name='Hidden1'))\n",
        "model.add(tf.keras.layers.BatchNormalization(axis=-1,name='BN1'))\n",
        "model.add(tf.keras.layers.Dense(300,activation='relu',name='Hidden2'))\n",
        "model.add(tf.keras.layers.BatchNormalization(axis=-1,name='BN2'))\n",
        "model.add(tf.keras.layers.Dense(300,activation='relu',name='Hidden3'))\n",
        "model.add(tf.keras.layers.BatchNormalization(axis=-1,name='BN3'))\n",
        "model.add(tf.keras.layers.Dense(300,activation='relu',name='Hidden4'))\n",
        "model.add(tf.keras.layers.BatchNormalization(axis=-1,name='BN4'))\n",
        "model.add(tf.keras.layers.Dense(300,activation='relu',name='Hidden5'))\n",
        "model.add(tf.keras.layers.BatchNormalization(axis=-1,name='BN5'))\n",
        "model.add(tf.keras.layers.Dense(300,activation='relu',name='Hidden6'))\n",
        "model.add(tf.keras.layers.BatchNormalization(axis=-1,name='BN6'))\n",
        "\n",
        "\n",
        "\n",
        "#model.add(tf.keras.layers.Dense(300,activation='relu',kernel_regularizer=l1_l2(l1 =0.001,l2=0.001),name='Hidden1'))\n",
        "#model.add(tf.keras.layers.BatchNormalization(axis=-1,name='BN1'))\n",
        "#model.add(tf.keras.layers.Dense(300,activation='relu',kernel_regularizer=l1_l2(l1 =0.001,l2=0.001),name='Hidden2'))\n",
        "#model.add(tf.keras.layers.BatchNormalization(axis=-1,name='BN2'))\n",
        "#model.add(tf.keras.layers.Dense(300,activation='relu',kernel_regularizer=l1_l2(l1 =0.001,l2=0.001),name='Hidden3'))\n",
        "#model.add(tf.keras.layers.BatchNormalization(axis=-1,name='BN3'))\n",
        "#model.add(tf.keras.layers.Dense(300,activation='relu',kernel_regularizer=l1_l2(l1 =0.001,l2=0.001),name='Hidden4'))\n",
        "#model.add(tf.keras.layers.BatchNormalization(axis=-1,name='BN4'))\n",
        "#model.add(tf.keras.layers.Dense(300,activation='relu',kernel_regularizer=l1_l2(l1 =0.001,l2=0.001),name='Hidden5'))\n",
        "#model.add(tf.keras.layers.BatchNormalization(axis=-1,name='BN5'))\n",
        "#model.add(tf.keras.layers.Dense(300,activation='relu',kernel_regularizer=l1_l2(l1 =0.001,l2=0.001),name='Hidden6'))\n",
        "\n",
        "model.add(tf.keras.layers.Dropout(0.2))"
      ],
      "metadata": {
        "id": "96b8IZv08d8L"
      },
      "execution_count": null,
      "outputs": []
    },
    {
      "cell_type": "code",
      "source": [
        "#output layer\n",
        "model.add(tf.keras.layers.Dense(output_dim,activation='softmax',name='output'))\n",
        "\n",
        "model.summary()"
      ],
      "metadata": {
        "colab": {
          "base_uri": "https://localhost:8080/"
        },
        "id": "cAE6I7JI8hfz",
        "outputId": "ff64392f-f83a-492d-81cb-a80c90afa9f0"
      },
      "execution_count": null,
      "outputs": [
        {
          "output_type": "stream",
          "name": "stdout",
          "text": [
            "Model: \"sequential\"\n",
            "_________________________________________________________________\n",
            " Layer (type)                Output Shape              Param #   \n",
            "=================================================================\n",
            " Hidden1 (Dense)             (None, 300)               3600      \n",
            "                                                                 \n",
            " BN1 (BatchNormalization)    (None, 300)               1200      \n",
            "                                                                 \n",
            " Hidden2 (Dense)             (None, 300)               90300     \n",
            "                                                                 \n",
            " BN2 (BatchNormalization)    (None, 300)               1200      \n",
            "                                                                 \n",
            " Hidden3 (Dense)             (None, 300)               90300     \n",
            "                                                                 \n",
            " BN3 (BatchNormalization)    (None, 300)               1200      \n",
            "                                                                 \n",
            " Hidden4 (Dense)             (None, 300)               90300     \n",
            "                                                                 \n",
            " BN4 (BatchNormalization)    (None, 300)               1200      \n",
            "                                                                 \n",
            " Hidden5 (Dense)             (None, 300)               90300     \n",
            "                                                                 \n",
            " BN5 (BatchNormalization)    (None, 300)               1200      \n",
            "                                                                 \n",
            " Hidden6 (Dense)             (None, 300)               90300     \n",
            "                                                                 \n",
            " BN6 (BatchNormalization)    (None, 300)               1200      \n",
            "                                                                 \n",
            " dropout (Dropout)           (None, 300)               0         \n",
            "                                                                 \n",
            " output (Dense)              (None, 11)                3311      \n",
            "                                                                 \n",
            "=================================================================\n",
            "Total params: 465,611\n",
            "Trainable params: 462,011\n",
            "Non-trainable params: 3,600\n",
            "_________________________________________________________________\n"
          ]
        }
      ]
    },
    {
      "cell_type": "markdown",
      "source": [
        "- Optimizer ไม่ได้มีการปรับแก้"
      ],
      "metadata": {
        "id": "2YT28VwpDGhX"
      }
    },
    {
      "cell_type": "code",
      "source": [
        "model.compile(optimizer='adam',loss='sparse_categorical_crossentropy',metrics=['acc'])\n"
      ],
      "metadata": {
        "id": "Jje6se-hBbsa"
      },
      "execution_count": null,
      "outputs": []
    },
    {
      "cell_type": "markdown",
      "source": [
        "- Batch size และ Epoch ทางกลุ่มไม่ได้ปรับจูนค่า\n",
        "- Validation Split ratio ได้ลองปรับตั้งแต่ 0.1 - 0.9"
      ],
      "metadata": {
        "id": "B3XmRb3dBGK0"
      }
    },
    {
      "cell_type": "code",
      "source": [
        "history=model.fit(x_train,y_train,batch_size=100,epochs=20,verbose=1,validation_split=0.2)"
      ],
      "metadata": {
        "colab": {
          "base_uri": "https://localhost:8080/"
        },
        "id": "oo6pmDCKDqFl",
        "outputId": "956e18e2-1f6a-4b14-d25f-e78263d447f0"
      },
      "execution_count": null,
      "outputs": [
        {
          "output_type": "stream",
          "name": "stdout",
          "text": [
            "Epoch 1/20\n",
            "10/10 [==============================] - 2s 43ms/step - loss: 2.4231 - acc: 0.3650 - val_loss: 2.2167 - val_acc: 0.5333\n",
            "Epoch 2/20\n",
            "10/10 [==============================] - 0s 16ms/step - loss: 1.5030 - acc: 0.6204 - val_loss: 2.0246 - val_acc: 0.5542\n",
            "Epoch 3/20\n",
            "10/10 [==============================] - 0s 15ms/step - loss: 1.1197 - acc: 0.6955 - val_loss: 1.8505 - val_acc: 0.4750\n",
            "Epoch 4/20\n",
            "10/10 [==============================] - 0s 14ms/step - loss: 0.8225 - acc: 0.7842 - val_loss: 1.6687 - val_acc: 0.5292\n",
            "Epoch 5/20\n",
            "10/10 [==============================] - 0s 14ms/step - loss: 0.7187 - acc: 0.8019 - val_loss: 1.5583 - val_acc: 0.4292\n",
            "Epoch 6/20\n",
            "10/10 [==============================] - 0s 20ms/step - loss: 0.5782 - acc: 0.8363 - val_loss: 1.4583 - val_acc: 0.4833\n",
            "Epoch 7/20\n",
            "10/10 [==============================] - 0s 20ms/step - loss: 0.4958 - acc: 0.8498 - val_loss: 1.4148 - val_acc: 0.4458\n",
            "Epoch 8/20\n",
            "10/10 [==============================] - 0s 15ms/step - loss: 0.4559 - acc: 0.8665 - val_loss: 1.3354 - val_acc: 0.5833\n",
            "Epoch 9/20\n",
            "10/10 [==============================] - 0s 16ms/step - loss: 0.3986 - acc: 0.8853 - val_loss: 1.3330 - val_acc: 0.4875\n",
            "Epoch 10/20\n",
            "10/10 [==============================] - 0s 14ms/step - loss: 0.3665 - acc: 0.8728 - val_loss: 1.3724 - val_acc: 0.4125\n",
            "Epoch 11/20\n",
            "10/10 [==============================] - 0s 16ms/step - loss: 0.3168 - acc: 0.8978 - val_loss: 1.3055 - val_acc: 0.5792\n",
            "Epoch 12/20\n",
            "10/10 [==============================] - 0s 15ms/step - loss: 0.3078 - acc: 0.9062 - val_loss: 1.3113 - val_acc: 0.5417\n",
            "Epoch 13/20\n",
            "10/10 [==============================] - 0s 16ms/step - loss: 0.2625 - acc: 0.9145 - val_loss: 1.3686 - val_acc: 0.5375\n",
            "Epoch 14/20\n",
            "10/10 [==============================] - 0s 16ms/step - loss: 0.2401 - acc: 0.9260 - val_loss: 1.2880 - val_acc: 0.5708\n",
            "Epoch 15/20\n",
            "10/10 [==============================] - 0s 14ms/step - loss: 0.2643 - acc: 0.9082 - val_loss: 1.3004 - val_acc: 0.5792\n",
            "Epoch 16/20\n",
            "10/10 [==============================] - 0s 15ms/step - loss: 0.2384 - acc: 0.9218 - val_loss: 1.4995 - val_acc: 0.5000\n",
            "Epoch 17/20\n",
            "10/10 [==============================] - 0s 14ms/step - loss: 0.2034 - acc: 0.9312 - val_loss: 1.5087 - val_acc: 0.5458\n",
            "Epoch 18/20\n",
            "10/10 [==============================] - 0s 17ms/step - loss: 0.2049 - acc: 0.9353 - val_loss: 1.4691 - val_acc: 0.5917\n",
            "Epoch 19/20\n",
            "10/10 [==============================] - 0s 14ms/step - loss: 0.1909 - acc: 0.9395 - val_loss: 1.4783 - val_acc: 0.5833\n",
            "Epoch 20/20\n",
            "10/10 [==============================] - 0s 17ms/step - loss: 0.1854 - acc: 0.9479 - val_loss: 1.5770 - val_acc: 0.5000\n"
          ]
        }
      ]
    },
    {
      "cell_type": "code",
      "source": [
        "# Summarize history for accuracy\n",
        "plt.figure(figsize=(15,5))\n",
        "plt.plot(history.history['acc'])\n",
        "plt.plot(history.history['val_acc'])\n",
        "plt.title('Train accuracy')\n",
        "plt.ylabel('accuracy')\n",
        "plt.xlabel('epoch')\n",
        "plt.legend(['train', 'test'], loc='upper left')\n",
        "plt.grid()\n",
        "plt.show()\n",
        "\n",
        "# Summarize history for loss\n",
        "plt.figure(figsize=(15,5))\n",
        "plt.plot(history.history['loss'])\n",
        "plt.plot(history.history['val_loss'])\n",
        "plt.title('Train loss')\n",
        "plt.ylabel('loss')\n",
        "plt.xlabel('epoch')\n",
        "plt.legend(['train', 'test'], loc='upper left')\n",
        "plt.grid()\n",
        "plt.show()"
      ],
      "metadata": {
        "colab": {
          "base_uri": "https://localhost:8080/",
          "height": 683
        },
        "id": "bLVBmkLaG_0G",
        "outputId": "25b2ce8a-ac9a-4fae-e040-831d9f0e8664"
      },
      "execution_count": null,
      "outputs": [
        {
          "output_type": "display_data",
          "data": {
            "image/png": "[encoded data removed]",
            "text/plain": [
              "<Figure size 1080x360 with 1 Axes>"
            ]
          },
          "metadata": {
            "needs_background": "light"
          }
        },
        {
          "output_type": "display_data",
          "data": {
            "image/png": "[encoded data removed]",
            "text/plain": [
              "<Figure size 1080x360 with 1 Axes>"
            ]
          },
          "metadata": {
            "needs_background": "light"
          }
        }
      ]
    },
    {
      "cell_type": "code",
      "source": [
        "results = model.evaluate(x_test, y_test, batch_size=128)\n",
        "print(f\"{model.metrics_names} = {results}\")"
      ],
      "metadata": {
        "colab": {
          "base_uri": "https://localhost:8080/"
        },
        "id": "Cer4TGUicPZm",
        "outputId": "fd9d837d-9330-40fd-9237-5987652328af"
      },
      "execution_count": null,
      "outputs": [
        {
          "output_type": "stream",
          "name": "stdout",
          "text": [
            "4/4 [==============================] - 0s 5ms/step - loss: 1.4201 - acc: 0.5225\n",
            "['loss', 'acc'] = [1.4201135635375977, 0.5224999785423279]\n"
          ]
        }
      ]
    },
    {
      "cell_type": "code",
      "source": [
        "# Test using the model on x_test[i]\n",
        "i = 1\n",
        "y_pred = model.predict(x_test[i].reshape(1,-1)) # reshape x_test[i] from (n_feature,) to (1, n_feature)\n",
        "\n",
        "print(f\"{'#'*10} Input: x_test[{i}] {'#'*10}\")\n",
        "print(f\"shape={x_test[i].shape}\\nvalue={x_test[i]}\\n\")\n",
        "\n",
        "print(f\"{'#'*10} Ground truth: y_test[{i}] {'#'*10}\")\n",
        "print(f\"shape={y_test[i].shape}\\nvalue={y_test[i]}\\n\")\n",
        "\n",
        "print(f\"{'#'*10} Prediction: y_pred {'#'*10}\")\n",
        "print(f\"type={type(y_pred)}\\ndtype={y_pred.dtype}\\nshape={y_pred.shape}\")\n",
        "print(f\"value={y_pred}\")\n",
        "print(f\"np.argmax(y_pred)={np.argmax(y_pred)}\")"
      ],
      "metadata": {
        "colab": {
          "base_uri": "https://localhost:8080/"
        },
        "id": "FtxlSgKHcVc0",
        "outputId": "2b5ddddb-207e-46d0-8934-6bc89ae895ab"
      },
      "execution_count": null,
      "outputs": [
        {
          "output_type": "stream",
          "name": "stdout",
          "text": [
            "########## Input: x_test[1] ##########\n",
            "shape=(11,)\n",
            "value=[-0.13713469  1.57906477 -1.39354657  1.04393471  0.16155451 -1.04907196\n",
            " -0.98199091  0.94818221  0.3314596  -0.72822233 -0.75660071]\n",
            "\n",
            "########## Ground truth: y_test[1] ##########\n",
            "shape=()\n",
            "value=5\n",
            "\n",
            "########## Prediction: y_pred ##########\n",
            "type=<class 'numpy.ndarray'>\n",
            "dtype=float32\n",
            "shape=(1, 11)\n",
            "value=[[0.00317405 0.00234399 0.00709234 0.00336993 0.00296133 0.21924157\n",
            "  0.75122064 0.00220306 0.00159036 0.00434558 0.00245712]]\n",
            "np.argmax(y_pred)=6\n"
          ]
        }
      ]
    },
    {
      "cell_type": "code",
      "source": [
        ""
      ],
      "metadata": {
        "id": "cp-tdeC01aSM"
      },
      "execution_count": null,
      "outputs": []
    }
  ]
}